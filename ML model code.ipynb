{
  "nbformat": 4,
  "nbformat_minor": 0,
  "metadata": {
    "colab": {
      "provenance": [],
      "authorship_tag": "ABX9TyNvkWTFF7+n/w6l4j49gbmp",
      "include_colab_link": true
    },
    "kernelspec": {
      "name": "python3",
      "display_name": "Python 3"
    },
    "language_info": {
      "name": "python"
    }
  },
  "cells": [
    {
      "cell_type": "markdown",
      "metadata": {
        "id": "view-in-github",
        "colab_type": "text"
      },
      "source": [
        "<a href=\"https://colab.research.google.com/github/Akansha3001/MinEd-Hackathon/blob/main/ML%20model%20code.ipynb\" target=\"_parent\"><img src=\"https://colab.research.google.com/assets/colab-badge.svg\" alt=\"Open In Colab\"/></a>"
      ]
    },
    {
      "cell_type": "code",
      "source": [
        "#Importing libraries\n",
        "import pandas as pd\n",
        "import numpy as np\n",
        "import matplotlib as plt"
      ],
      "metadata": {
        "id": "n7WzSMd6pzKk"
      },
      "execution_count": null,
      "outputs": []
    },
    {
      "cell_type": "code",
      "execution_count": null,
      "metadata": {
        "colab": {
          "base_uri": "https://localhost:8080/"
        },
        "id": "fefZrE7woWg7",
        "outputId": "b5619a71-312b-493f-db34-9b5fb8d3db5d"
      },
      "outputs": [
        {
          "output_type": "stream",
          "name": "stdout",
          "text": [
            "           Date  1 USD to INR conversion rate\n",
            "0    30/06/2022                       78.9732\n",
            "1    29/06/2022                       78.8985\n",
            "2    28/06/2022                       79.0558\n",
            "3    27/06/2022                       78.4272\n",
            "4    26/06/2022                       78.2321\n",
            "..          ...                           ...\n",
            "907  05/01/2020                       71.7612\n",
            "908  04/01/2020                       71.7583\n",
            "909  03/01/2020                       71.7583\n",
            "910  02/01/2020                       71.3517\n",
            "911  01/01/2020                       71.3210\n",
            "\n",
            "[912 rows x 2 columns]\n"
          ]
        }
      ],
      "source": [
        "# Load the dataset\n",
        "df = pd.read_csv('/content/USD to INR conversion rate - Sheet1.csv')\n",
        "print(df)"
      ]
    },
    {
      "cell_type": "markdown",
      "source": [
        "RANDOM FOREST CLASSIFIER MODEL"
      ],
      "metadata": {
        "id": "i0TgqhPcstvv"
      }
    },
    {
      "cell_type": "code",
      "source": [
        "#Split the data\n",
        "X=df.iloc[:,1:df.shape[1]].values\n",
        "Y=df.iloc[:,0].values"
      ],
      "metadata": {
        "id": "DafewUOnsXOU"
      },
      "execution_count": null,
      "outputs": []
    },
    {
      "cell_type": "code",
      "source": [
        "#Split the data into 75% training and 25% testing\n",
        "from sklearn.model_selection import train_test_split\n",
        "X_train, X_test, Y_train, Y_test = train_test_split(X,Y,test_size=0.25,random_state=0)"
      ],
      "metadata": {
        "id": "E7zpA9asseq7"
      },
      "execution_count": null,
      "outputs": []
    },
    {
      "cell_type": "code",
      "source": [
        "#Use the Random Forest Classifier\n",
        "from sklearn.ensemble import RandomForestClassifier\n",
        "forest=RandomForestClassifier(n_estimators=10,criterion='entropy',random_state=0)\n",
        "forest.fit(X_train,Y_train)"
      ],
      "metadata": {
        "id": "cbdL1YcSshn8"
      },
      "execution_count": null,
      "outputs": []
    },
    {
      "cell_type": "code",
      "source": [
        "#Get the accuracy on the training data set\n",
        "forest.score(X_train,Y_train)"
      ],
      "metadata": {
        "id": "XJ3nccFssk5i"
      },
      "execution_count": null,
      "outputs": []
    },
    {
      "cell_type": "code",
      "source": [
        "y_pred = forest.predict(X_test)\n",
        "forest.fit(X_train,Y_train)"
      ],
      "metadata": {
        "id": "BbOCw2YvwB1K"
      },
      "execution_count": null,
      "outputs": []
    }
  ]
}